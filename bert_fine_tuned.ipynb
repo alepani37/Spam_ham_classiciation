{
 "cells": [
  {
   "cell_type": "code",
   "id": "initial_id",
   "metadata": {
    "collapsed": true,
    "ExecuteTime": {
     "end_time": "2025-06-17T16:40:45.259175Z",
     "start_time": "2025-06-17T16:40:40.274280Z"
    }
   },
   "source": [
    "import torch\n",
    "from torch.utils.data import DataLoader, Dataset\n",
    "from torch.optim import AdamW\n",
    "from transformers import AutoTokenizer, AutoModelForSequenceClassification\n",
    "from sklearn.model_selection import train_test_split\n",
    "from sklearn.metrics import accuracy_score, classification_report\n",
    "import pandas as pd\n",
    "from tqdm import tqdm"
   ],
   "outputs": [
    {
     "name": "stderr",
     "output_type": "stream",
     "text": [
      "D:\\virt\\dla_reforgiato\\Lib\\site-packages\\tqdm\\auto.py:21: TqdmWarning: IProgress not found. Please update jupyter and ipywidgets. See https://ipywidgets.readthedocs.io/en/stable/user_install.html\n",
      "  from .autonotebook import tqdm as notebook_tqdm\n"
     ]
    }
   ],
   "execution_count": 1
  },
  {
   "metadata": {
    "ExecuteTime": {
     "end_time": "2025-06-17T16:40:45.265687Z",
     "start_time": "2025-06-17T16:40:45.262179Z"
    }
   },
   "cell_type": "code",
   "source": [
    "PRE_TRAINED = True\n",
    "NUM_EPOCHS = 5\n",
    "OUTPUT = \"./spam_bert.pt\""
   ],
   "id": "3523cba2c34645d9",
   "outputs": [],
   "execution_count": 2
  },
  {
   "metadata": {
    "ExecuteTime": {
     "end_time": "2025-06-17T16:40:45.462674Z",
     "start_time": "2025-06-17T16:40:45.456875Z"
    }
   },
   "cell_type": "code",
   "source": [
    "class EmailDataset(Dataset):\n",
    "    def __init__(self, texts, labels, tokenizer, max_len=512):\n",
    "        self.texts = texts\n",
    "        self.labels = labels\n",
    "        self.tokenizer = tokenizer\n",
    "        self.max_len = max_len\n",
    "\n",
    "    def __len__(self):\n",
    "        return len(self.texts)\n",
    "\n",
    "    def __getitem__(self, idx):\n",
    "        encoding = self.tokenizer(\n",
    "            self.texts[idx],\n",
    "            truncation=True,\n",
    "            padding='max_length',\n",
    "            max_length=self.max_len,\n",
    "            return_tensors='pt'\n",
    "        )\n",
    "        return {\n",
    "            'input_ids': encoding['input_ids'].squeeze(0),\n",
    "            'attention_mask': encoding['attention_mask'].squeeze(0),\n",
    "            'labels': torch.tensor(self.labels[idx], dtype=torch.long)\n",
    "        }"
   ],
   "id": "b0d8ff7522084c44",
   "outputs": [],
   "execution_count": 3
  },
  {
   "metadata": {
    "ExecuteTime": {
     "end_time": "2025-06-17T16:40:45.504864Z",
     "start_time": "2025-06-17T16:40:45.468761Z"
    }
   },
   "cell_type": "code",
   "source": [
    "df = pd.read_csv(\"data/spam_or_not_spam.csv\")\n",
    "df = df.dropna(subset=['email', 'label'])\n",
    "\n",
    "X_train_temp, X_test, y_train_temp, y_test  = train_test_split(df[\"email\"], df[\"label\"], test_size=0.2, random_state=1)\n",
    "X_train, X_val, y_train, y_val  = train_test_split(X_train_temp, y_train_temp, test_size=0.2, random_state=1)"
   ],
   "id": "ec69c905e1ef8669",
   "outputs": [],
   "execution_count": 4
  },
  {
   "metadata": {
    "ExecuteTime": {
     "end_time": "2025-06-17T16:40:46.362964Z",
     "start_time": "2025-06-17T16:40:45.513376Z"
    }
   },
   "cell_type": "code",
   "source": [
    "tokenizer = AutoTokenizer.from_pretrained(\"bert-base-uncased\")\n",
    "train_dataset = EmailDataset(list(X_train), list(y_train), tokenizer)\n",
    "val_dataset = EmailDataset(list(X_val), list(y_val), tokenizer)\n",
    "test_dataset = EmailDataset(list(X_test), list(y_test), tokenizer)"
   ],
   "id": "7570cf759d440c21",
   "outputs": [],
   "execution_count": 5
  },
  {
   "metadata": {
    "ExecuteTime": {
     "end_time": "2025-06-17T16:40:46.375852Z",
     "start_time": "2025-06-17T16:40:46.372342Z"
    }
   },
   "cell_type": "code",
   "source": [
    "train_loader = DataLoader(train_dataset, batch_size=16, shuffle=True)\n",
    "val_loader = DataLoader(val_dataset, batch_size=16)\n",
    "test_loader = DataLoader(test_dataset, batch_size=16)"
   ],
   "id": "d359821d974a110d",
   "outputs": [],
   "execution_count": 6
  },
  {
   "metadata": {
    "ExecuteTime": {
     "end_time": "2025-06-17T16:40:49.975489Z",
     "start_time": "2025-06-17T16:40:46.385875Z"
    }
   },
   "cell_type": "code",
   "source": [
    "device = torch.device(\"cuda\" if torch.cuda.is_available() else \"cpu\")\n",
    "model = AutoModelForSequenceClassification.from_pretrained(\"bert-base-uncased\", num_labels=2)\n",
    "model.to(device)\n",
    "optimizer = AdamW(model.parameters(), lr=2e-5)"
   ],
   "id": "1c89d11aac8db37b",
   "outputs": [
    {
     "name": "stderr",
     "output_type": "stream",
     "text": [
      "Some weights of BertForSequenceClassification were not initialized from the model checkpoint at bert-base-uncased and are newly initialized: ['classifier.bias', 'classifier.weight']\n",
      "You should probably TRAIN this model on a down-stream task to be able to use it for predictions and inference.\n"
     ]
    }
   ],
   "execution_count": 7
  },
  {
   "metadata": {
    "ExecuteTime": {
     "end_time": "2025-06-17T16:40:49.991255Z",
     "start_time": "2025-06-17T16:40:49.986325Z"
    }
   },
   "cell_type": "code",
   "source": [
    "if not PRE_TRAINED:\n",
    "    for epoch in range(NUM_EPOCHS):\n",
    "        model.train()\n",
    "        total_loss = 0\n",
    "        for batch in tqdm(train_loader, desc=f\"Training Epoch {epoch+1}\"):\n",
    "            input_ids = batch['input_ids'].to(device)\n",
    "            attention_mask = batch['attention_mask'].to(device)\n",
    "            labels = batch['labels'].to(device)\n",
    "\n",
    "            outputs = model(input_ids=input_ids, attention_mask=attention_mask, labels=labels)\n",
    "            loss = outputs.loss\n",
    "            total_loss += loss.item()\n",
    "\n",
    "            optimizer.zero_grad()\n",
    "            loss.backward()\n",
    "            optimizer.step()\n",
    "\n",
    "        print(f\"Epoch {epoch+1} - Loss: {total_loss / len(train_loader):.4f}\")\n",
    "\n",
    "        # === Validation ===\n",
    "        model.eval()\n",
    "        val_preds, val_true = [], []\n",
    "        with torch.no_grad():\n",
    "            for batch in val_loader:\n",
    "                input_ids = batch['input_ids'].to(device)\n",
    "                attention_mask = batch['attention_mask'].to(device)\n",
    "                labels = batch['labels'].to(device)\n",
    "\n",
    "                outputs = model(input_ids=input_ids, attention_mask=attention_mask)\n",
    "                preds = torch.argmax(outputs.logits, dim=1)\n",
    "\n",
    "                val_preds.extend(preds.cpu().numpy())\n",
    "                val_true.extend(labels.cpu().numpy())\n",
    "\n",
    "        print(classification_report(val_true, val_preds))\n",
    "    torch.save(model.state_dict(), OUTPUT)"
   ],
   "id": "c632c61f5ee1ab88",
   "outputs": [],
   "execution_count": 8
  },
  {
   "metadata": {
    "ExecuteTime": {
     "end_time": "2025-06-17T16:41:02.230740Z",
     "start_time": "2025-06-17T16:40:50.001768Z"
    }
   },
   "cell_type": "code",
   "source": [
    "if PRE_TRAINED:\n",
    "    model.load_state_dict(torch.load(OUTPUT))\n",
    "    model.eval()\n",
    "\n",
    "    val_preds, val_true = [], []\n",
    "    with torch.no_grad():\n",
    "        for batch in val_loader:\n",
    "            input_ids = batch['input_ids'].to(device)\n",
    "            attention_mask = batch['attention_mask'].to(device)\n",
    "            labels = batch['labels'].to(device)\n",
    "\n",
    "            outputs = model(input_ids=input_ids, attention_mask=attention_mask)\n",
    "            preds = torch.argmax(outputs.logits, dim=1)\n",
    "\n",
    "            val_preds.extend(preds.cpu().numpy())\n",
    "            val_true.extend(labels.cpu().numpy())\n",
    "\n",
    "    print(classification_report(val_true, val_preds, digits=4))\n",
    "\n",
    "    test_preds, test_true = [], []\n",
    "    with torch.no_grad():\n",
    "        for batch in test_loader:\n",
    "            input_ids = batch['input_ids'].to(device)\n",
    "            attention_mask = batch['attention_mask'].to(device)\n",
    "            labels = batch['labels'].to(device)\n",
    "\n",
    "            outputs = model(input_ids=input_ids, attention_mask=attention_mask)\n",
    "            preds = torch.argmax(outputs.logits, dim=1)\n",
    "\n",
    "            test_preds.extend(preds.cpu().numpy())\n",
    "            test_true.extend(labels.cpu().numpy())\n",
    "\n",
    "    print(classification_report(test_true, test_preds,digits=4))"
   ],
   "id": "8d28dd8d98ff3b21",
   "outputs": [
    {
     "name": "stdout",
     "output_type": "stream",
     "text": [
      "              precision    recall  f1-score   support\n",
      "\n",
      "           0     0.9950    0.9975    0.9963       400\n",
      "           1     0.9873    0.9750    0.9811        80\n",
      "\n",
      "    accuracy                         0.9938       480\n",
      "   macro avg     0.9912    0.9863    0.9887       480\n",
      "weighted avg     0.9937    0.9938    0.9937       480\n",
      "\n",
      "              precision    recall  f1-score   support\n",
      "\n",
      "           0     1.0000    1.0000    1.0000       492\n",
      "           1     1.0000    1.0000    1.0000       108\n",
      "\n",
      "    accuracy                         1.0000       600\n",
      "   macro avg     1.0000    1.0000    1.0000       600\n",
      "weighted avg     1.0000    1.0000    1.0000       600\n",
      "\n"
     ]
    }
   ],
   "execution_count": 9
  },
  {
   "metadata": {
    "ExecuteTime": {
     "end_time": "2025-06-17T16:41:02.394655Z",
     "start_time": "2025-06-17T16:41:02.389475Z"
    }
   },
   "cell_type": "code",
   "source": [
    "if not PRE_TRAINED:\n",
    "    model.eval()\n",
    "    val_preds, val_true = [], []\n",
    "    with torch.no_grad():\n",
    "        for batch in val_loader:\n",
    "            input_ids = batch['input_ids'].to(device)\n",
    "            attention_mask = batch['attention_mask'].to(device)\n",
    "            labels = batch['labels'].to(device)\n",
    "\n",
    "            outputs = model(input_ids=input_ids, attention_mask=attention_mask)\n",
    "            preds = torch.argmax(outputs.logits, dim=1)\n",
    "\n",
    "            val_preds.extend(preds.cpu().numpy())\n",
    "            val_true.extend(labels.cpu().numpy())\n",
    "\n",
    "        print(classification_report(val_true, val_preds,digits=4))\n",
    "\n",
    "    test_preds, test_true = [], []\n",
    "    with torch.no_grad():\n",
    "        for batch in test_loader:\n",
    "            input_ids = batch['input_ids'].to(device)\n",
    "            attention_mask = batch['attention_mask'].to(device)\n",
    "            labels = batch['labels'].to(device)\n",
    "\n",
    "            outputs = model(input_ids=input_ids, attention_mask=attention_mask)\n",
    "            preds = torch.argmax(outputs.logits, dim=1)\n",
    "\n",
    "            test_preds.extend(preds.cpu().numpy())\n",
    "            test_true.extend(labels.cpu().numpy())\n",
    "\n",
    "    print(classification_report(test_true, test_preds, digits=4))"
   ],
   "id": "276c95b829c093cd",
   "outputs": [],
   "execution_count": 10
  }
 ],
 "metadata": {
  "kernelspec": {
   "display_name": "Python 3",
   "language": "python",
   "name": "python3"
  },
  "language_info": {
   "codemirror_mode": {
    "name": "ipython",
    "version": 2
   },
   "file_extension": ".py",
   "mimetype": "text/x-python",
   "name": "python",
   "nbconvert_exporter": "python",
   "pygments_lexer": "ipython2",
   "version": "2.7.6"
  }
 },
 "nbformat": 4,
 "nbformat_minor": 5
}
